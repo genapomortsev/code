{
 "cells": [
  {
   "cell_type": "code",
   "execution_count": 19,
   "metadata": {},
   "outputs": [],
   "source": [
    "import numpy as np\n",
    "import pandas as pd\n",
    "import seaborn as sns\n",
    "from random import uniform\n",
    "from random import randint"
   ]
  },
  {
   "cell_type": "code",
   "execution_count": 20,
   "metadata": {},
   "outputs": [],
   "source": [
    "#Написать функцию которая возвращает числа Фибоначи"
   ]
  },
  {
   "cell_type": "code",
   "execution_count": 21,
   "metadata": {},
   "outputs": [],
   "source": [
    "def fibo_0(n):\n",
    "    \"\"\"\n",
    "    Функция, которая возвращает числа фибоначи\n",
    "    \"\"\"\n",
    "    if n == 0:\n",
    "        return 0\n",
    "    if n == 1:\n",
    "        return 1\n",
    "    return -1"
   ]
  },
  {
   "cell_type": "code",
   "execution_count": 22,
   "metadata": {},
   "outputs": [
    {
     "data": {
      "text/plain": [
       "0"
      ]
     },
     "execution_count": 22,
     "metadata": {},
     "output_type": "execute_result"
    }
   ],
   "source": [
    "fibo_0(0)"
   ]
  },
  {
   "cell_type": "code",
   "execution_count": 23,
   "metadata": {},
   "outputs": [],
   "source": [
    "def fibo_1(n):\n",
    "    \"\"\"\n",
    "    Функция, которая возвращает числа фибоначи\n",
    "    \n",
    "    Работает медленно, основана на рекурсии\n",
    "    \"\"\"\n",
    "    if n == 0:\n",
    "        return 0\n",
    "    if n == 1:\n",
    "        return 1\n",
    "    return fibo_1(n - 1) + fibo_1(n - 2)"
   ]
  },
  {
   "cell_type": "code",
   "execution_count": 24,
   "metadata": {},
   "outputs": [
    {
     "data": {
      "text/plain": [
       "55"
      ]
     },
     "execution_count": 24,
     "metadata": {},
     "output_type": "execute_result"
    }
   ],
   "source": [
    "fibo_1(10)"
   ]
  },
  {
   "cell_type": "code",
   "execution_count": 25,
   "metadata": {},
   "outputs": [],
   "source": [
    "def fibo_2(n):\n",
    "    \"\"\"\n",
    "    Функция, которая возвращает числа фибоначи\n",
    "    \n",
    "    Работает расчитывая числа от 1 до n-го\n",
    "    \"\"\"\n",
    "    if n == 0:\n",
    "        return 0\n",
    "    if n == 1:\n",
    "        return 1\n",
    "    before_last_num = 0\n",
    "    last_num = 1\n",
    "    for i in range(n - 1):\n",
    "        new_num = before_last_num + last_num\n",
    "        before_last_num = last_num\n",
    "        last_num = new_num\n",
    "    return new_num"
   ]
  },
  {
   "cell_type": "code",
   "execution_count": 26,
   "metadata": {},
   "outputs": [
    {
     "data": {
      "text/plain": [
       "354224848179261915075"
      ]
     },
     "execution_count": 26,
     "metadata": {},
     "output_type": "execute_result"
    }
   ],
   "source": [
    "fibo_2(100)"
   ]
  },
  {
   "cell_type": "code",
   "execution_count": 27,
   "metadata": {},
   "outputs": [
    {
     "data": {
      "text/plain": [
       "0.4472135954999565"
      ]
     },
     "execution_count": 27,
     "metadata": {},
     "output_type": "execute_result"
    }
   ],
   "source": [
    "fibo_2(100) / (1.618033988749895 ** 100)"
   ]
  },
  {
   "cell_type": "code",
   "execution_count": 28,
   "metadata": {},
   "outputs": [],
   "source": [
    "def fibo_3(n):\n",
    "    \"\"\"\n",
    "    Функция, которая возвращает числа фибоначи\n",
    "    \n",
    "    Работает расчитывая числа от 1 до n-го\n",
    "    \"\"\"\n",
    "    approx = 0.4472135954999565 * (1.618033988749895) ** n\n",
    "    return round(approx)"
   ]
  },
  {
   "cell_type": "code",
   "execution_count": 29,
   "metadata": {},
   "outputs": [
    {
     "data": {
      "text/plain": [
       "27269884455407276819594541349339155364171010304418176064591814845746727917737479687626257017427928487430309074818679879936600295630075181433220642063702490296773477955327171829316565702391830316978551726378258288591850949870547992684698339414565191680"
      ]
     },
     "execution_count": 29,
     "metadata": {},
     "output_type": "execute_result"
    }
   ],
   "source": [
    "fibo_3(1200)"
   ]
  },
  {
   "cell_type": "code",
   "execution_count": 30,
   "metadata": {},
   "outputs": [],
   "source": [
    "# Задача 2. Функция, которая заменяет натуральное число на текстовое представление."
   ]
  },
  {
   "cell_type": "code",
   "execution_count": 31,
   "metadata": {},
   "outputs": [],
   "source": [
    "def name_0(n):\n",
    "    text = 'Не знаю такого числа:)'\n",
    "    special_names = ['один', 'два', 'три', 'четыре', 'пять', 'шесть', 'семь', 'восемь', 'девять', 'десять', \n",
    "                   'одиннадцать', 'двенадцать', 'тринадцать', 'четырнадцать', 'пятнадцать', 'шестнадцать', 'семнадцать', 'восемнадцать', 'девятнадцать']\n",
    "    names_10 = ['двадцать', 'тридцать', 'сорок', 'пятьдесят', 'шестьдесят', 'семьдесят', 'восемьдесят', 'девяносто']\n",
    "    names_100 = ['сто', 'двести', 'триста', 'четыреста', 'пятьсот', 'шестьсот', 'семьсот', 'восемьсот', 'девятьсот']\n",
    "    if n < 20:\n",
    "        text = special_names[n - 1]\n",
    "    if 19 < n < 100:\n",
    "        n_10 = n // 10\n",
    "        n_1 = n % 10\n",
    "        if n_1 > 0:\n",
    "            text = names_10[n_10 - 2] + ' ' + special_names[n_1 - 1]\n",
    "        else:\n",
    "            text = names_10[n_10 - 2]\n",
    "    if 99 < n < 1000:\n",
    "        n_100 = n // 100\n",
    "        remainder_100 = n % 100\n",
    "        add_text = ''\n",
    "        if remainder_100 > 0:\n",
    "            text = names_100[n_100 - 1] + ' ' + name_0(remainder_100)\n",
    "        else:\n",
    "            text = names_100[n_100 - 1]\n",
    "    \n",
    "    return text"
   ]
  },
  {
   "cell_type": "code",
   "execution_count": 32,
   "metadata": {},
   "outputs": [
    {
     "data": {
      "text/plain": [
       "'сто тридцать'"
      ]
     },
     "execution_count": 32,
     "metadata": {},
     "output_type": "execute_result"
    }
   ],
   "source": [
    "name_0(130)"
   ]
  },
  {
   "cell_type": "code",
   "execution_count": 33,
   "metadata": {},
   "outputs": [],
   "source": [
    "def kubik():\n",
    "    \"\"\"\n",
    "     подбрасываем до первой шестерки, True/False показывает \n",
    "     выпадали ли только четные или выпало хоть одно нечетное\n",
    "    \"\"\" \n",
    "    a = True \n",
    "    n_broskov = 1\n",
    "    brosok = -1\n",
    "    while brosok < 6:\n",
    "        n_broskov += 1\n",
    "        brosok = randint(1,6)\n",
    "        if brosok % 2 != 0:\n",
    "            a = False\n",
    "    return (n_broskov, a) "
   ]
  },
  {
   "cell_type": "code",
   "execution_count": 38,
   "metadata": {},
   "outputs": [],
   "source": [
    "n = 1000\n",
    "br = [kubik() for i in range(n)]"
   ]
  },
  {
   "cell_type": "code",
   "execution_count": 41,
   "metadata": {},
   "outputs": [],
   "source": [
    "def eat_baget():\n",
    "    i = 0 \n",
    "    b = 1\n",
    "    while b > 0:\n",
    "        a = uniform(0,1)\n",
    "        b -= a\n",
    "        i += 1\n",
    "    return i"
   ]
  },
  {
   "cell_type": "code",
   "execution_count": 42,
   "metadata": {},
   "outputs": [],
   "source": [
    "#for j in range(1, 10000):\n",
    "#    eat_baget()\n",
    "#    print(eat_baget())\n",
    "n_exp = 1000\n",
    "udaff_life = [eat_baget() for i in range(n_exp)]\n",
    "EN_hat = np.mean(udaff_life)"
   ]
  },
  {
   "cell_type": "code",
   "execution_count": 43,
   "metadata": {},
   "outputs": [],
   "source": [
    "PNeq2_hat = udaff_life.count(2) / n_exp"
   ]
  },
  {
   "cell_type": "code",
   "execution_count": 44,
   "metadata": {},
   "outputs": [],
   "source": [
    "PNeq3_hat = udaff_life.count(3) / n_exp"
   ]
  },
  {
   "cell_type": "code",
   "execution_count": 45,
   "metadata": {},
   "outputs": [
    {
     "name": "stdout",
     "output_type": "stream",
     "text": [
      "0 1 2 3 4 5 6 7 8 9\n"
     ]
    }
   ],
   "source": [
    "a = list(range(10))\n",
    "print(*a)"
   ]
  },
  {
   "cell_type": "code",
   "execution_count": 49,
   "metadata": {},
   "outputs": [],
   "source": [
    "baguet = 1\n",
    "i = 0\n",
    "tup = []\n",
    "for j in range(1, 10000):\n",
    "    while baguet >0:\n",
    "        zagl = uniform(0, 1)\n",
    "        baguet = baguet - zagl\n",
    "        i += 1 \n",
    "    tup += [i]\n",
    "#print(*tup)"
   ]
  },
  {
   "cell_type": "code",
   "execution_count": 50,
   "metadata": {},
   "outputs": [],
   "source": [
    "def name():\n",
    "    baguet = 1\n",
    "    i = 0\n",
    "    while baguet >0:\n",
    "        zagl = uniform(a=0, b=1)\n",
    "        baguet = baguet - zagl\n",
    "        i += 1 \n",
    "    return i "
   ]
  },
  {
   "cell_type": "code",
   "execution_count": 52,
   "metadata": {},
   "outputs": [
    {
     "data": {
      "text/plain": [
       "4"
      ]
     },
     "execution_count": 52,
     "metadata": {},
     "output_type": "execute_result"
    }
   ],
   "source": [
    "name()"
   ]
  },
  {
   "cell_type": "code",
   "execution_count": 53,
   "metadata": {},
   "outputs": [],
   "source": [
    "n = 10**8\n",
    "udaff = [name() for i in range(n)]"
   ]
  },
  {
   "cell_type": "code",
   "execution_count": 54,
   "metadata": {},
   "outputs": [],
   "source": [
    "udaff\n",
    "en = np.mean(udaff)"
   ]
  },
  {
   "cell_type": "code",
   "execution_count": 55,
   "metadata": {},
   "outputs": [],
   "source": [
    "three_mean = udaff.count(3) /n"
   ]
  },
  {
   "cell_type": "code",
   "execution_count": 56,
   "metadata": {},
   "outputs": [
    {
     "name": "stdin",
     "output_type": "stream",
     "text": [
      " 1\n"
     ]
    },
    {
     "name": "stdout",
     "output_type": "stream",
     "text": [
      "True\n"
     ]
    },
    {
     "name": "stdin",
     "output_type": "stream",
     "text": [
      " 2\n"
     ]
    },
    {
     "name": "stdout",
     "output_type": "stream",
     "text": [
      "True\n"
     ]
    },
    {
     "name": "stdin",
     "output_type": "stream",
     "text": [
      " 3\n"
     ]
    },
    {
     "name": "stdout",
     "output_type": "stream",
     "text": [
      "True\n"
     ]
    },
    {
     "name": "stdin",
     "output_type": "stream",
     "text": [
      "  \n"
     ]
    }
   ],
   "source": [
    "while True:\n",
    "    a = input()\n",
    "    if a == ' ':\n",
    "        break\n",
    "    x = bool(int(a) > 0)\n",
    "    print(x)"
   ]
  },
  {
   "cell_type": "code",
   "execution_count": null,
   "metadata": {},
   "outputs": [],
   "source": []
  }
 ],
 "metadata": {
  "kernelspec": {
   "display_name": "Python 3",
   "language": "python",
   "name": "python3"
  },
  "language_info": {
   "codemirror_mode": {
    "name": "ipython",
    "version": 3
   },
   "file_extension": ".py",
   "mimetype": "text/x-python",
   "name": "python",
   "nbconvert_exporter": "python",
   "pygments_lexer": "ipython3",
   "version": "3.8.3"
  }
 },
 "nbformat": 4,
 "nbformat_minor": 4
}
